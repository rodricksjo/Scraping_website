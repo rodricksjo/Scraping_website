{
 "cells": [
  {
   "cell_type": "code",
   "execution_count": null,
   "id": "e8b0d2ab",
   "metadata": {},
   "outputs": [],
   "source": [
    "#importing libraries\n",
    "import pandas as pd \n",
    "from pandas import read_html\n",
    "import html5lib\n",
    "from bs4 import BeautifulSoup\n",
    "import re\n",
    "import mysql.connector\n",
    "import pyodbc\n",
    "from mysql.connector import Error\n",
    "from itertools import islice"
   ]
  },
  {
   "cell_type": "code",
   "execution_count": null,
   "id": "0e091409",
   "metadata": {},
   "outputs": [],
   "source": [
    "#Table created \n",
    "db = mysql.connector.connect(\n",
    "    host=\"localhost\",\n",
    "    user=\"jov\",\n",
    "    passwd=\"123456789\",\n",
    "    database=\"ana\"\n",
    ")\n",
    "mycursor = db.cursor()\n",
    "\n",
    "#Deleting  and creating a new table\n",
    "sql1 = \"DROP TABLE job_detail2\"\n",
    "mycursor.execute(sql1)\n",
    "mycursor.execute(\"CREATE TABLE job_detail2(id INT AUTO_INCREMENT PRIMARY KEY,SrNo INT, Name CHAR(100), Date VARCHAR(20), NoofDays INT(10),Nameofwork VARCHAR(10000), MSRNO INT(15),Totalamountofwork INT(10),PaymentDone INT(5))\")\n",
    "#mycursor.close()"
   ]
  },
  {
   "cell_type": "code",
   "execution_count": null,
   "id": "e143abb7",
   "metadata": {},
   "outputs": [],
   "source": [
    "def cleanhtml(raw_html):\n",
    "    cleanr = re.compile('<.*?>')\n",
    "    cleantext = re.sub(cleanr, '', raw_html)\n",
    "    return cleantext\n",
    "cleanr = re.compile('<.*?>|&([a-z0-9]+|#[0-9]{1,6}|#x[0-9a-f]{1,6});')\n",
    "\n",
    "def listToString(s): \n",
    "    # initialize an empty string\n",
    "    str1 = \"\" \n",
    "    # traverse in the string  \n",
    "    for ele in s: \n",
    "        str1 += ele  \n",
    "    # return string  \n",
    "    return str1 \n",
    "def ConvertToList(string):\n",
    "    li = list(string.split(\" \"))\n",
    "    return li"
   ]
  },
  {
   "cell_type": "code",
   "execution_count": null,
   "id": "ed589943",
   "metadata": {},
   "outputs": [],
   "source": [
    "f=open(r'C:\\Users\\JOVAN RODRIGUES\\Desktop\\My Certificates\\Job Card.html')\n",
    "table_id='GridView3'\n",
    "content = f.read()          #parse HTML\n",
    "soup = BeautifulSoup(content,'html.parser')\n",
    "\n",
    "contentinTable  = soup.find('table',attrs={'id':table_id}) # Use dictionary to pass key : value pair\n",
    "rows1  = contentinTable.find_all('td')\n",
    "#store data from table with id 'gridview3' here in list format\n",
    "abd1=rows1\n",
    "paragraphs1 = []\n",
    "for x in abd1:\n",
    "    paragraphs1.append(str(x))"
   ]
  },
  {
   "cell_type": "code",
   "execution_count": null,
   "id": "546a797b",
   "metadata": {},
   "outputs": [],
   "source": [
    "#converting the list to string format using the above defined function and storing in finale \n",
    "s = paragraphs1\n",
    "finale1=listToString(s)\n",
    "#cleaning data and removing extra tags  using the cleanhtml function we created and storing in resa\n",
    "clean1=cleanhtml(finale1)\n",
    "#here the strip  function clears the starting and ending spaces\n",
    "clean2=clean1.strip()\n",
    "rita1=clean2\n",
    "#here the \\n and \\n are removed \n",
    "myeString1 = re.sub(r\"[\\t\\n]*\", \"\",rita1)\n",
    "wella1=rita1\n",
    "result1 = re.sub('\\s+\\s+','     ', wella1)\n",
    "heresult1=result1.split(\"     \")\n",
    "for i in range(len(heresult1)):\n",
    "    print(heresult1[i])"
   ]
  },
  {
   "cell_type": "code",
   "execution_count": null,
   "id": "0982770e",
   "metadata": {},
   "outputs": [],
   "source": [
    "#here the Sub total part is removed from list and stored in stora\n",
    "n=0\n",
    "lenta =8\n",
    "stora=[]\n",
    "while( n<len(heresult1)):\n",
    "        if 'Sub Total' in heresult1[n]:\n",
    "           #line = heresult1[n:n+4] and here length is 4\n",
    "            n=n+4      \n",
    "        else :\n",
    "            #lenta =8 here\n",
    "            line = heresult1[n:n+lenta]\n",
    "            n=n+8\n",
    "            stora =stora + line\n",
    "            print(line)\n"
   ]
  },
  {
   "cell_type": "code",
   "execution_count": null,
   "id": "51377184",
   "metadata": {},
   "outputs": [],
   "source": [
    "#did not use in code but can get sublist of specific length \n",
    "print(type(stora))\n",
    "b=len(stora)\n",
    "print(len(stora))\n",
    "\n",
    "print(stora[:8:])  "
   ]
  },
  {
   "cell_type": "code",
   "execution_count": null,
   "id": "59150261",
   "metadata": {},
   "outputs": [],
   "source": [
    "Lst = stora\n",
    "sr_no= Lst[0:b:8]\n",
    "applicant_name=Lst[1:b:8]\n",
    "date_month=Lst[2:b:8]\n",
    "no_of_days =Lst[3:b:8]\n",
    "work_name=Lst[4:b:8]\n",
    "msr_no=Lst[5:b:8]\n",
    "total_amount_of_work_done=Lst[6:b:8]\n",
    "payment_due=Lst[7:b:8]\n",
    "\n",
    "# Display list\n",
    "print(applicant_name)"
   ]
  },
  {
   "cell_type": "code",
   "execution_count": null,
   "id": "60589306",
   "metadata": {},
   "outputs": [],
   "source": [
    "#used to make a list of how many 44 lenths of each size 8 which is used in next lines \n",
    "b=len(stora)\n",
    "c=int(b/8)\n",
    "mixed =  []\n",
    "mixed.extend([8]*c)\n",
    "print(mixed)\n"
   ]
  },
  {
   "cell_type": "code",
   "execution_count": null,
   "id": "5f4ed857",
   "metadata": {},
   "outputs": [],
   "source": [
    "#Here we crete a sub set of the main list in size of 8 \n",
    "# Input list initialization\n",
    "Input = stora\n",
    "# list of length in which we have to split\n",
    "#length_to_split = [8,8,8,8,8,8,8,8,8,8,8,8,8,8,8,8,8,8,8,8,8,8,8,8,8,8,8,8,8,8,8,8,8,8,8,8,8,8,8,8,8,8,8,8]\n",
    "length_to_split = mixed\n",
    "# Using islice\n",
    "Inputt = iter(Input)\n",
    "output = [list(islice(Inputt, elem))\n",
    "          for elem in length_to_split] \n",
    "print(output)"
   ]
  },
  {
   "cell_type": "code",
   "execution_count": null,
   "id": "b1687550",
   "metadata": {},
   "outputs": [],
   "source": [
    "records_to_insert=output\n",
    "mySql_insert_query= \"INSERT INTO job_detail2 (SrNo , Name , Date, NoofDays ,Nameofwork , MSRNO ,Totalamountofwork ,PaymentDone ) VALUES (%s, %s, %s, %s,%s, %s, %s, %s)\""
   ]
  },
  {
   "cell_type": "code",
   "execution_count": null,
   "id": "1f947966",
   "metadata": {},
   "outputs": [],
   "source": [
    "db = mysql.connector.connect(\n",
    "    host=\"localhost\",\n",
    "    user=\"jov\",\n",
    "    passwd=\"123456789\",\n",
    "    database=\"ana\"\n",
    ")\n",
    "mycursor = db.cursor()\n",
    "\n",
    "cursor = db.cursor()\n",
    "cursor.executemany(mySql_insert_query, records_to_insert)\n",
    "db.commit()\n",
    "print(cursor.rowcount, \"Record inserted successfully into Laptop table\")"
   ]
  },
  {
   "cell_type": "code",
   "execution_count": null,
   "id": "0fab2942",
   "metadata": {},
   "outputs": [],
   "source": []
  }
 ],
 "metadata": {
  "kernelspec": {
   "display_name": "Python 3",
   "language": "python",
   "name": "python3"
  },
  "language_info": {
   "codemirror_mode": {
    "name": "ipython",
    "version": 3
   },
   "file_extension": ".py",
   "mimetype": "text/x-python",
   "name": "python",
   "nbconvert_exporter": "python",
   "pygments_lexer": "ipython3",
   "version": "3.8.8"
  }
 },
 "nbformat": 4,
 "nbformat_minor": 5
}
