{
 "cells": [
  {
   "cell_type": "code",
   "execution_count": null,
   "id": "9b6f8b60",
   "metadata": {},
   "outputs": [],
   "source": [
    "#importing part \n",
    "import requests\n",
    "from bs4 import BeautifulSoup\n",
    "import urllib.parse\n",
    "import mysql.connector\n",
    "import pyodbc"
   ]
  },
  {
   "cell_type": "code",
   "execution_count": null,
   "id": "ac207a13",
   "metadata": {},
   "outputs": [],
   "source": [
    "#function to get final links and insert into database table \n",
    "def get_links(URL):\n",
    "    global inside_links\n",
    "    page = requests.get(URL)\n",
    "    soup = BeautifulSoup(page.content, features='lxml') \n",
    "    inside_links= [link.get(\"href\") for link in soup(\"a\") if \"citizen_html\" in link.get(\"href\")]\n",
    "    mycursur = db.cursor()\n",
    "    sql1 = \"INSERT INTO master (link) VALUES (%s)\"\n",
    "    for itm in range(0,len(inside_links)):\n",
    "        val = inside_links[itm]\n",
    "        mycursur.execute(sql1, (val,))\n",
    "        db.commit()  \n",
    "    return (len(inside_links))"
   ]
  },
  {
   "cell_type": "code",
   "execution_count": null,
   "id": "2e53be44",
   "metadata": {},
   "outputs": [],
   "source": [
    "db = mysql.connector.connect(\n",
    "    host=\"localhost\",\n",
    "    user=\"jov\",\n",
    "    passwd=\"123456789\",\n",
    "    database=\"ana\"\n",
    ")\n",
    "mycursor = db.cursor()\n",
    "\n",
    "#Deleting  and creating a new table\n",
    "sql1 = \"DROP TABLE master\"\n",
    "mycursor.execute(sql1)\n",
    "mycursor.execute(\"CREATE TABLE master(id INT AUTO_INCREMENT PRIMARY KEY, link VARCHAR(10000))\")\n",
    "mycursor.close()\n",
    "\n",
    "#link fetching part\n",
    "urle1 =\"https://mnregaweb4.nic.in/netnrega/master_search1.aspx?flag=2&wsrch=msr&district_code=3420&state_name=JHARKHAND&district_name=BOKARO&short_name=JH&srch=20000&Digest=+aw4ZIV9SpyInYb9MphsnQ \"\n",
    "urle1_parts = list(urllib.parse.urlparse(urle1))\n",
    "qery1 = dict(urllib.parse.parse_qsl(urle1_parts[4]))\n",
    "qery1[\"srch\"]=1\n",
    "for srch in range(0,100):      \n",
    "        urle1_parts[4] = urllib.parse.urlencode(qery1)\n",
    "        URL=urllib.parse.urlunparse(urle1_parts)\n",
    "        #calling function  \n",
    "        c= get_links(URL)\n",
    "        if c:\n",
    "            present = 1\n",
    "            qery1[\"srch\"] += 1            \n",
    "        else:          \n",
    "            print(\"NO links present in here\")\n",
    "            break\n",
    "print(\"I stopped getting you links\")  "
   ]
  },
  {
   "cell_type": "code",
   "execution_count": null,
   "id": "7c24389c",
   "metadata": {},
   "outputs": [],
   "source": [
    "#to display the links stored in table master \n",
    "cursor= db.cursor()\n",
    "cursor.execute(\"SELECT * FROM master\") \n",
    "# fetch all the matching rows \n",
    "result = cursor.fetchall() \n",
    "# loop through the rows\n",
    "for row in result:\n",
    "    print(row)\n",
    "    print(\"\\n\")"
   ]
  },
  {
   "cell_type": "code",
   "execution_count": null,
   "id": "4613654e",
   "metadata": {},
   "outputs": [],
   "source": []
  },
  {
   "cell_type": "code",
   "execution_count": null,
   "id": "1090fcca",
   "metadata": {},
   "outputs": [],
   "source": []
  },
  {
   "cell_type": "code",
   "execution_count": null,
   "id": "233b84f1",
   "metadata": {},
   "outputs": [],
   "source": []
  }
 ],
 "metadata": {
  "kernelspec": {
   "display_name": "Python 3",
   "language": "python",
   "name": "python3"
  },
  "language_info": {
   "codemirror_mode": {
    "name": "ipython",
    "version": 3
   },
   "file_extension": ".py",
   "mimetype": "text/x-python",
   "name": "python",
   "nbconvert_exporter": "python",
   "pygments_lexer": "ipython3",
   "version": "3.8.8"
  }
 },
 "nbformat": 4,
 "nbformat_minor": 5
}
